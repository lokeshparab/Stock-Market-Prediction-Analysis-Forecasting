{
  "nbformat": 4,
  "nbformat_minor": 0,
  "metadata": {
    "colab": {
      "provenance": [],
      "authorship_tag": "ABX9TyP4OGfYSKrtlZYbd40jG9uU",
      "include_colab_link": true
    },
    "kernelspec": {
      "name": "python3",
      "display_name": "Python 3"
    },
    "language_info": {
      "name": "python"
    }
  },
  "cells": [
    {
      "cell_type": "markdown",
      "metadata": {
        "id": "view-in-github",
        "colab_type": "text"
      },
      "source": [
        "<a href=\"https://colab.research.google.com/github/lokeshparab/Stock-Market-Prediction-Analysis-Forecasting/blob/main/Stock_Market_Prediction_Analysis_Forcasting.ipynb\" target=\"_parent\"><img src=\"https://colab.research.google.com/assets/colab-badge.svg\" alt=\"Open In Colab\"/></a>"
      ]
    },
    {
      "cell_type": "markdown",
      "source": [
        "# Installation"
      ],
      "metadata": {
        "id": "bfTwCx6hjXdV"
      }
    },
    {
      "cell_type": "code",
      "execution_count": null,
      "metadata": {
        "id": "RGM-Qm0Ii5ob"
      },
      "outputs": [],
      "source": [
        "# !pip install yfinance --upgrade --no-cache-dir\n",
        "# !pip install Yahoo-ticker-downloader"
      ]
    },
    {
      "cell_type": "markdown",
      "source": [
        "# Data Collection Phase"
      ],
      "metadata": {
        "id": "Q8ZL8cATwV39"
      }
    },
    {
      "cell_type": "markdown",
      "source": [
        "## Import Library"
      ],
      "metadata": {
        "id": "FNMHLR2HjdcL"
      }
    },
    {
      "cell_type": "code",
      "source": [
        "import yfinance as yf\n",
        "import requests as rq\n",
        "import json     as js\n",
        "import os\n",
        "\n",
        "from bs4      import BeautifulSoup as BS\n",
        "from datetime import datetime      as dt\n",
        "from tqdm     import tqdm"
      ],
      "metadata": {
        "id": "oqq0n6WZjbq4"
      },
      "execution_count": 1,
      "outputs": []
    },
    {
      "cell_type": "markdown",
      "source": [
        "## Scrape Latest Trending Tickers in Yahoo finance"
      ],
      "metadata": {
        "id": "n94NMFNfwdtk"
      }
    },
    {
      "cell_type": "code",
      "source": [
        "url = \"https://finance.yahoo.com/lookup/\"\n",
        "FOLDER_PATH = 'Trend Ticker List'\n",
        "\n",
        "# get url request data\n",
        "res = rq.get(url)\n",
        "\n",
        "# If response status is not ok\n",
        "if not res.ok:\n",
        "  print(res)\n",
        "\n",
        "# Scrape ticker symbol from website\n",
        "else:\n",
        "  soup             = BS(res.content,'html.parser')\n",
        "  ticker_list_info = soup.find('section', id = 'lookup-page').find('tbody').findAll('tr')\n",
        "  ticker_symbols    = [ sym.find('a').text for sym in ticker_list_info ]\n",
        "\n",
        "  current_time     = dt.today().strftime(\"%d-%m-%Y %H:%M:%S\")\n",
        "\n",
        "  # Saving datetime and ticker list in dictionary\n",
        "  data = {\n",
        "      'datetime': current_time,\n",
        "      'ticker_list' : ticker_symbols\n",
        "  }\n",
        "\n",
        "\n",
        "  os.makedirs(FOLDER_PATH, exist_ok = True)\n",
        "\n",
        "  # Saving ticker symbol data in json file at folder \"Trend Ticker List\"\n",
        "  with open(f'{FOLDER_PATH}/{current_time}.json','w') as fd:\n",
        "    fd.write( js.dumps(data) )\n",
        "    fd.close()"
      ],
      "metadata": {
        "id": "cjE0q6z2tXu3"
      },
      "execution_count": 2,
      "outputs": []
    },
    {
      "cell_type": "code",
      "source": [
        "\n",
        "#@markdown ## Get History data and metadata from Trend Ticker List\n",
        "#@markdown Optional `file_name` attribute if you want specific files to extract ticker list otherwise is it taken `lastest` by default\n",
        "file_name = 'latest' #@param{type:\"string\"}\n",
        "duration = '1y' #@param['1y','2y','4y','6y','1m','2m','4m','6m']\n",
        "\n",
        "FOLDER_PATH = 'Trend Ticker List'\n",
        "\n",
        "# Read file function for json\n",
        "def read_file(path:str)->dict:\n",
        "  with open(path,'r') as fd:\n",
        "    data:dict = js.loads(fd.read())\n",
        "    fd.close()\n",
        "    return data\n",
        "\n",
        "# Get sorted file from Folder \"Trend Ticker List\"\n",
        "files = sorted(os.listdir(FOLDER_PATH))\n",
        "\n",
        "# Generate file path for existing file or lastest file\n",
        "FILE_PATH  :str  = f'{FOLDER_PATH}/' + ( file_name if file_name in files else files[-1] )\n",
        "\n",
        "# Get ticket data from generated file path\n",
        "ticker_data:dict = read_file(path = FILE_PATH)\n",
        "\n",
        "# Generate Folder path for History data\n",
        "FOLDER_PATH = f\"History data ending from {ticker_data['datetime'].split()[0]} for {duration}\"\n",
        "os.makedirs(FOLDER_PATH, exist_ok = True)\n",
        "\n",
        "# Create metadata info for all ticker symbol\n",
        "metadata = {\n",
        "    'duration' : duration ,\n",
        "    'tickers'  : []\n",
        "    }\n",
        "\n",
        "# Get metadata and save history data in CSV file at folder \"History duration ..\"\n",
        "for ticker in tqdm(ticker_data['ticker_list']):\n",
        "\n",
        "  msft = yf.Ticker(ticker)\n",
        "\n",
        "  metadata['tickers'].append(msft.info)\n",
        "\n",
        "  msft.history(period=duration).reset_index().to_csv(f'{FOLDER_PATH}/{ticker}.csv')\n",
        "\n",
        "# Save metadata\n",
        "with open(f'{FOLDER_PATH}/metadata.json','w') as fd:\n",
        "  fd.write(js.dumps(metadata))\n",
        "  fd.close()\n"
      ],
      "metadata": {
        "colab": {
          "base_uri": "https://localhost:8080/"
        },
        "id": "rD9qVE4Ukaq0",
        "outputId": "1f1e7ceb-af9c-48c8-a251-74bfc3256f3e"
      },
      "execution_count": 3,
      "outputs": [
        {
          "output_type": "stream",
          "name": "stderr",
          "text": [
            "100%|██████████| 30/30 [00:23<00:00,  1.26it/s]\n"
          ]
        }
      ]
    },
    {
      "cell_type": "code",
      "source": [
        "!zip -r \"$FOLDER_PATH\" \"$FOLDER_PATH\"\n",
        "!zip -r 'Trend Ticker List' 'Trend Ticker List'"
      ],
      "metadata": {
        "colab": {
          "base_uri": "https://localhost:8080/"
        },
        "id": "vv5TWCj8F1it",
        "outputId": "e30ef6e9-7b0e-4e95-a2cd-e240363316de"
      },
      "execution_count": 6,
      "outputs": [
        {
          "output_type": "stream",
          "name": "stdout",
          "text": [
            "\tzip warning: name not matched: $FOLDER_PATH\n",
            "\n",
            "zip error: Nothing to do! (try: zip -r $FOLDER_PATH . -i $FOLDER_PATH)\n",
            "updating: Trend Ticker List/ (stored 0%)\n",
            "updating: Trend Ticker List/11-10-2023 14:13:31.json (deflated 36%)\n"
          ]
        }
      ]
    },
    {
      "cell_type": "markdown",
      "source": [
        "# Data Analysis Phase"
      ],
      "metadata": {
        "id": "R96ZuVr2G8vI"
      }
    },
    {
      "cell_type": "code",
      "source": [],
      "metadata": {
        "id": "gUmQ07yfG_9e"
      },
      "execution_count": null,
      "outputs": []
    }
  ]
}